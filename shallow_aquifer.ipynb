{
 "cells": [
  {
   "cell_type": "markdown",
   "metadata": {},
   "source": [
    "# Shallow Aquifer model"
   ]
  },
  {
   "cell_type": "markdown",
   "metadata": {},
   "source": [
    "*This notebook runs a simple 1D model for groundwater flow and water table changes in a shallow unconfined aquifer above a horizontal impermeable layer.*\n",
    "\n",
    "(Author: Greg Tucker, University of Colorado, Boulder. Version 1.0, March 2020)\n",
    "\n",
    "## How do I run the model?\n",
    "\n",
    "First, run the complete notebook (Cell => Run All).\n",
    "\n",
    "Next, page down to the section \"Example model run\" to see an example of how to run the model and plot its output.\n",
    "\n",
    "Then, continue on to the section \"Your turn\" to read about how to change parameters and re-run the model. Use the cells below that section to type your commands.\n",
    "\n",
    "## What to see and do?\n",
    "\n",
    "- Watch the movie in the example run. The dashed line shows the expected steady state water table: the water table position that occurs when the recharge entering the aquifer from above is exactly balanced by the outflow along the right-side boundary. Approximately how long does this run take to reach that steady state?\n",
    "\n",
    "- Experiment with changing the value of hydraulic conductivity ($K$). How does conductivity influence the height of the water table when the system is in steady state? How does it influence the time needed to reach steady state?\n",
    "\n",
    "- Experiment with changing the value of recharge ($R$). How does recharge influence the height of the water table when the system is in steady state? How does it influence the time needed to reach steady state?\n",
    "\n",
    "- If you simultaneously double both the recharge and conductivity, does the steady state water table height change? Why or why not?\n",
    "\n",
    "- Given what you have observed, would you expect the water table in a dry climate (low $R$) to be higher or lower than in a wet climate (high $R$), all else equal?\n",
    "\n",
    "- If recharge were to suddenly change, which aquifer would respond faster: one with a high conductivity, or one with a low conductivity?\n",
    "\n",
    "## What's under the hood?\n",
    "\n",
    "The model using the Dupuit approximation for a \"shallow\" unconfined aquifer, with the hydraulic gradient equal to the water table gradient. The aquifer sits on top of a horizontal impermeable layer. Darcy's law for this situation can be written:\n",
    "\n",
    "$q = -K H \\frac{\\partial H}{\\partial x}$. \n",
    "\n",
    "Here, $q$ is the water discharge per unit aquifer width, $H$ is the aquifer thickness (and also the height of the water table above the horizontal impermeable layer), and $x$ is distance from the left edge.\n",
    "\n",
    "Mass balance says that the rate of rise or fall of the water table at a particular position depends on the incoming recharge rate, $R$, minus the derivative of discharge:\n",
    "\n",
    "$(1-\\phi ) \\frac{\\partial H}{\\partial t} = R - \\frac{\\partial q}{\\partial x}$,\n",
    "\n",
    "where $t$ is time and $\\phi$ is porosity.\n",
    "\n",
    "The model is solved (approximated) numerically using a finite-difference scheme. The left boundary is an impermeable \"wall\"; the right boundary is a seepage face, meaning that the water table thickness is zero at this edge, and the water percolates out to the right at a rate that depends on the water table slope (hydraulic gradient) and aquifer thickness."
   ]
  },
  {
   "cell_type": "code",
   "execution_count": null,
   "metadata": {},
   "outputs": [],
   "source": [
    "import numpy as np\n",
    "import matplotlib\n",
    "import matplotlib.pyplot as plt\n",
    "from matplotlib import rc\n",
    "from matplotlib.animation import FuncAnimation\n",
    "from IPython.display import HTML"
   ]
  },
  {
   "cell_type": "markdown",
   "metadata": {},
   "source": [
    "The basic source code for the model is here. You shouldn't need to modify it, but take a look to a get a sense for how it works."
   ]
  },
  {
   "cell_type": "code",
   "execution_count": null,
   "metadata": {},
   "outputs": [],
   "source": [
    "class WaterTableSimulator(object):\n",
    "    \n",
    "    def __init__(self,\n",
    "                 K = 100., # hydraulic conductivity (m/day)\n",
    "                 R = 2e-3, # recharge rate (m/day)\n",
    "                 H0 = 0.0, # initial height (m)\n",
    "                 n = 50,   # number of nodes in the model\n",
    "                 dx = 1.,  # spacing between nodes (m)\n",
    "                 dt = 1e-4): # time step (days)\n",
    "\n",
    "        self.hydraulic_conductivity = K\n",
    "        self.recharge_rate = R\n",
    "        self.init_height = H0\n",
    "        self.init_time = 0\n",
    "        self.nodes = n\n",
    "        self.dx = dx\n",
    "        self.dt = dt\n",
    "        self.length = self.dx * self.nodes\n",
    "        self.centers = np.arange(0.5*self.dx, self.length+self.dx, self.dx)\n",
    "        self.H = 0 * self.centers + self.init_height\n",
    "        self.H[-1] = 0\n",
    "        self.u = 0 * self.centers\n",
    "        self.q = 0 * self.centers\n",
    "        \n",
    "        # Construct an analytic solution for the steady state water table\n",
    "        self.Hanalytic = np.sqrt(np.abs((R/K) * ((self.length + self.dx/2)**2 \n",
    "                                                 - self.centers**2)))\n",
    "        self.Qanalytic = self.centers * R\n",
    "        self.Uanalytic = np.zeros(len(self.Qanalytic))\n",
    "        self.Uanalytic[:-1] = self.Qanalytic[:-1] / self.Hanalytic[:-1]\n",
    "\n",
    "        self.current_time = 0.0\n",
    "\n",
    "    def run_one_step(self):\n",
    "        \"\"\"Run one time step.\"\"\"\n",
    "        self.dH = np.diff(self.H)      # differences in water table height btwn adjacent nodes\n",
    "        self.dHdx = self.dH / self.dx  # water table gradient (= hydraulic gradient)\n",
    "        self.u[1:] = -self.hydraulic_conductivity * self.dHdx  # Darcian velocity, m/day\n",
    "        self.q[1:] = self.u[1:] * (self.H[:-1] + 0.5 * self.dH) # Unit discharge, m2/day\n",
    "        self.dHdt = self.recharge_rate - np.diff(self.q) / self.dx # Rate of WT rise/fall, m/day\n",
    "        self.H[:-1] += self.dHdt * self.dt  # New WT height for this time step, m\n",
    "        self.current_time += self.dt   # Update current time\n",
    "\n",
    "    def run_n_steps(self, n):\n",
    "        for _ in range(n):\n",
    "            self.run_one_step()\n",
    "        print('Current time = ' + str(self.current_time))\n"
   ]
  },
  {
   "cell_type": "code",
   "execution_count": null,
   "metadata": {},
   "outputs": [],
   "source": [
    "def run_model(run_duration = 400.0,  # run duration (days)\n",
    "                 K = 100., # hydraulic conductivity (m/day)\n",
    "                 R = 2e-3, # recharge rate (m/day)\n",
    "                 H0 = 0.0, # initial height (m)\n",
    "                 n = 50,   # number of nodes in the model\n",
    "                 dx = 1.,  # spacing between nodes (m)\n",
    "                 dt = 1e-4, # time step (days)\n",
    "                 plot_interval_in_days = 10,\n",
    "             ):\n",
    "    \"\"\"Initialize, run, and display output from model.\n",
    "\n",
    "    Parameters\n",
    "    ----------\n",
    "    \"\"\"\n",
    "\n",
    "    # Instantiate and initialize a simulator\n",
    "    model = WaterTableSimulator(K=K, R=R, H0=H0, n=n, dx=dx, dt=dt)\n",
    "\n",
    "    # Calculate number of animation iterations\n",
    "    save_every = int(plot_interval_in_days / model.dt)\n",
    "    nsteps = int(run_duration / plot_interval_in_days)\n",
    "\n",
    "    # Set up a blank figure with placeholder lists for data\n",
    "    fig, ax = plt.subplots()\n",
    "    xdata = []\n",
    "    ydata = []\n",
    "    obj = ax.plot([], [], color = 'k')\n",
    "\n",
    "    # Then, set up an initialization function\n",
    "    def init():\n",
    "        ax.set_ylim(0, 1.2 * np.amax(model.Hanalytic))\n",
    "        ax.set_xlim(0, model.length)\n",
    "        ax.set_ylabel('Height (m)')\n",
    "        ax.set_xlabel('Distance (m)')\n",
    "        return(obj)\n",
    "\n",
    "    # Next, define the update function\n",
    "    def update(i):\n",
    "        ax.cla()\n",
    "        model.run_n_steps(save_every)\n",
    "        xdata = model.centers\n",
    "        ydata = model.H\n",
    "        ax.set_ylim(0, 1.2 * np.amax(model.Hanalytic))\n",
    "        ax.set_xlim(0, model.length)\n",
    "        ax.set_ylabel('Height (m)')\n",
    "        ax.set_xlabel('Distance (m)')\n",
    "        ax.set_title('Time = ' + str(round(model.current_time)) + ' days')\n",
    "        obj = ax.plot(xdata, ydata)\n",
    "        obj = ax.plot(xdata, model.Hanalytic, 'k--')\n",
    "        return(obj)\n",
    "\n",
    "    # Run the animation!\n",
    "    print('Running...')\n",
    "    anim = FuncAnimation(fig, update, nsteps, init_func=init, blit = True)\n",
    "\n",
    "    # Convert the animation to HTML\n",
    "    vid = HTML(anim.to_html5_video())\n",
    "    \n",
    "    print('done!')\n",
    "\n",
    "    return vid, model"
   ]
  },
  {
   "cell_type": "markdown",
   "metadata": {},
   "source": [
    "## Example model run\n",
    "\n",
    "Use the syntax below to run the model. This particular example uses default values for the hydraulic conductivity, recharge rate, and other parameters. See \"Your Turn\" below to learn how to change these parameters."
   ]
  },
  {
   "cell_type": "code",
   "execution_count": null,
   "metadata": {},
   "outputs": [],
   "source": [
    "vid, model = run_model()\n",
    "vid"
   ]
  },
  {
   "cell_type": "markdown",
   "metadata": {},
   "source": [
    "Once you have completed a model run, you can view and plot the water table height (=saturated zone thickness), the Darcian velocity, the unit discharge, and other variables. The variable `centers` is a numpy array containing the $x$ coordinates of the cell centers. Here are some examples:"
   ]
  },
  {
   "cell_type": "code",
   "execution_count": null,
   "metadata": {},
   "outputs": [],
   "source": [
    "plt.plot(model.centers, model.H)\n",
    "plt.xlabel('Distance (m)')\n",
    "plt.ylabel('Height (m)')\n",
    "plt.title('Final water table height')"
   ]
  },
  {
   "cell_type": "code",
   "execution_count": null,
   "metadata": {},
   "outputs": [],
   "source": [
    "plt.plot(model.centers, model.u)\n",
    "plt.plot(model.centers[:-1], model.Uanalytic[:-1], 'k:')  # note: last node undefined, don't plot\n",
    "plt.xlabel('Distance (m)')\n",
    "plt.ylabel('Darcian velocity (m/day)')\n",
    "plt.title('Final flow velocity')"
   ]
  },
  {
   "cell_type": "code",
   "execution_count": null,
   "metadata": {},
   "outputs": [],
   "source": [
    "plt.plot(model.centers, model.q)\n",
    "plt.plot(model.centers[:-1], model.Qanalytic[:-1], 'k:')  # note: last node undefined, don't plot\n",
    "plt.xlabel('Distance (m)')\n",
    "plt.ylabel(r'Discharge per unit width (m$^2$/day)')\n",
    "plt.title('Final aquifer discharge')"
   ]
  },
  {
   "cell_type": "markdown",
   "metadata": {},
   "source": [
    "## Your turn!\n",
    "\n",
    "Use new cells below to run the model with different values of $K$, $R$, or other inputs. To change from the default value of a parameter, specify the name and value as keyword arguments to the `run_model` function. For example, to run the model with twice the default conductivity (that is, 200 m/day instead of 100 m/day), you would use `vid, model = run_model(K=200.0)`. To play the resulting movie, type `vid` on the last line or in a cell by itself. See the examples above for guidance on how to plot your data.\n",
    "\n",
    "To get plots into your paper, you have a few options:\n",
    "\n",
    "(1) Use the `savefig` matplotlib function to save your figures to files, and then import them into the notebook that contains your paper. For example, to save a plot as a file called `myplot.png`, use `savefig('myplot.png')` on a line of code right after your plotting commands.\n",
    "\n",
    "(2) Copy the model code plus your runs at the end of your notebook, and use a markdown cell to give each figure a number and caption. Then you can refer to it in the main text.\n",
    "\n",
    "(3) Take screen shots of your figures, and place them in the notebook containing your paper.\n",
    "\n",
    "Whatever method you use, please remember to number your figures and include captions."
   ]
  },
  {
   "cell_type": "markdown",
   "metadata": {},
   "source": [
    "### Enter your work below here:"
   ]
  },
  {
   "cell_type": "code",
   "execution_count": null,
   "metadata": {},
   "outputs": [],
   "source": []
  }
 ],
 "metadata": {
  "kernelspec": {
   "display_name": "Python 3",
   "language": "python",
   "name": "python3"
  },
  "language_info": {
   "codemirror_mode": {
    "name": "ipython",
    "version": 3
   },
   "file_extension": ".py",
   "mimetype": "text/x-python",
   "name": "python",
   "nbconvert_exporter": "python",
   "pygments_lexer": "ipython3",
   "version": "3.7.3"
  }
 },
 "nbformat": 4,
 "nbformat_minor": 4
}
