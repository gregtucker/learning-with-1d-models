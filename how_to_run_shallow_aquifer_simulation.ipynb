{
 "cells": [
  {
   "cell_type": "markdown",
   "metadata": {},
   "source": [
    "# Shallow aquifer simulation model\n",
    "\n",
    "*(GEOL 3820, Prof. Greg Tucker, CU Boulder, Oct 2021)*\n",
    "\n",
    "This notebook demonstrates how to import, run, and visualize a simulation model of a simple shallow aquifer. The model represents a vertical cross-section through a hypothetical aquifer composed of uniform material. Flow is from left to right. The right edge of the model represents a seepage face: water trickles out at the base of a cliff. The left side is a vertical barrier of impermeable rock. The aquifer gains water from recharge (rain water infiltrating and percolating downward), and loses water by seepage out the right edge."
   ]
  },
  {
   "cell_type": "markdown",
   "metadata": {},
   "source": [
    "The Python code for the simulation is in a file called `shallow_aquifer_between_streams.py`. Copy this file into the same folder as this notebook.\n",
    "\n",
    "Import the simulation model, and matplotlib:"
   ]
  },
  {
   "cell_type": "code",
   "execution_count": null,
   "metadata": {},
   "outputs": [],
   "source": [
    "from shallow_aquifer_between_streams import run_model\n",
    "import matplotlib.pyplot as plt"
   ]
  },
  {
   "cell_type": "markdown",
   "metadata": {},
   "source": [
    "The code cell below shows how to the simulation with default parameters. The default parameters are:\n",
    "\n",
    "- Hydraulic conductivity, `K` = 100 m/day\n",
    "- Recharge rate, `R` = 0.002 m/day\n",
    "- Run duration, `run_duration` = 400 days\n",
    "- Interval between plots, `plot_interval_in_days` = 10 days"
   ]
  },
  {
   "cell_type": "code",
   "execution_count": null,
   "metadata": {},
   "outputs": [],
   "source": [
    "vid, model = run_model()"
   ]
  },
  {
   "cell_type": "markdown",
   "metadata": {},
   "source": [
    "Display a video:"
   ]
  },
  {
   "cell_type": "code",
   "execution_count": null,
   "metadata": {},
   "outputs": [],
   "source": [
    "vid"
   ]
  },
  {
   "cell_type": "markdown",
   "metadata": {},
   "source": [
    "Plot the water table at the end of the run:"
   ]
  },
  {
   "cell_type": "code",
   "execution_count": null,
   "metadata": {},
   "outputs": [],
   "source": [
    "plt.plot(model.centers, model.H)\n",
    "plt.xlabel('Distance (m)')\n",
    "plt.ylabel('Height (m)')\n",
    "plt.title('Final water table height')"
   ]
  },
  {
   "cell_type": "markdown",
   "metadata": {},
   "source": [
    "Plot the Darcian velocity at the end of the run:"
   ]
  },
  {
   "cell_type": "code",
   "execution_count": null,
   "metadata": {},
   "outputs": [],
   "source": [
    "plt.plot(model.centers[:-1] + model.dx/2, model.u)\n",
    "plt.xlabel('Distance (m)')\n",
    "plt.ylabel('Darcian velocity (m/day)')\n",
    "plt.grid(True)\n",
    "plt.title('Final flow velocity')"
   ]
  },
  {
   "cell_type": "markdown",
   "metadata": {},
   "source": [
    "Plot the specific discharge at the end of the run, and save the image to a file:"
   ]
  },
  {
   "cell_type": "code",
   "execution_count": null,
   "metadata": {},
   "outputs": [],
   "source": [
    "plt.plot(model.centers[:-1], model.q)\n",
    "plt.xlabel('Distance (m)')\n",
    "plt.ylabel(r'Discharge per unit width (m$^2$/day)')\n",
    "plt.title('Final aquifer discharge')\n",
    "plt.grid(True)\n",
    "plt.savefig('myaquifer_q.png')"
   ]
  },
  {
   "cell_type": "markdown",
   "metadata": {},
   "source": [
    "Get a list of input parameters:"
   ]
  },
  {
   "cell_type": "code",
   "execution_count": null,
   "metadata": {},
   "outputs": [],
   "source": [
    "run_model?"
   ]
  },
  {
   "cell_type": "markdown",
   "metadata": {},
   "source": [
    "Do a run with different values of conductivity, recharge, and/or duration:"
   ]
  },
  {
   "cell_type": "code",
   "execution_count": null,
   "metadata": {},
   "outputs": [],
   "source": [
    "vid, model = run_model(run_duration = 200.0,  # run duration (days)\n",
    "                       K = 200., # hydraulic conductivity (m/day)\n",
    "                       R = 2.5e-3, # recharge rate (m/day),\n",
    "                       plot_interval_in_days = 20, # plot interval (d)\n",
    "                      )"
   ]
  },
  {
   "cell_type": "code",
   "execution_count": null,
   "metadata": {},
   "outputs": [],
   "source": [
    "vid"
   ]
  },
  {
   "cell_type": "markdown",
   "metadata": {},
   "source": [
    "Try this out in your own notebook, or use the cell(s) below to run the model with different input parameters. For example, what happens if you change hydraulic conductivity? If you change the recharge rate?"
   ]
  },
  {
   "cell_type": "code",
   "execution_count": null,
   "metadata": {},
   "outputs": [],
   "source": []
  }
 ],
 "metadata": {
  "kernelspec": {
   "display_name": "Python 3",
   "language": "python",
   "name": "python3"
  },
  "language_info": {
   "codemirror_mode": {
    "name": "ipython",
    "version": 3
   },
   "file_extension": ".py",
   "mimetype": "text/x-python",
   "name": "python",
   "nbconvert_exporter": "python",
   "pygments_lexer": "ipython3",
   "version": "3.8.8"
  }
 },
 "nbformat": 4,
 "nbformat_minor": 4
}
