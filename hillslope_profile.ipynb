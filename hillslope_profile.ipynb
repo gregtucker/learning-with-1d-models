{
 "cells": [
  {
   "cell_type": "markdown",
   "metadata": {},
   "source": [
    "# Simulation of hillslope evolution\n",
    "\n",
    "This notebook creates and runs a one-dimensional simulation model of the evolution of a soil-mantled hillslope undergoing uplift relative to baselevel.\n",
    "\n",
    "(Greg Tucker, University of Colorado Boulder; last update November 2021)"
   ]
  },
  {
   "cell_type": "code",
   "execution_count": null,
   "metadata": {},
   "outputs": [],
   "source": [
    "import numpy as np\n",
    "import matplotlib\n",
    "import matplotlib.pyplot as plt\n",
    "from matplotlib import rc\n",
    "from matplotlib.animation import FuncAnimation\n",
    "from IPython.display import HTML"
   ]
  },
  {
   "cell_type": "markdown",
   "metadata": {},
   "source": [
    "The block below defines the code for the model:"
   ]
  },
  {
   "cell_type": "code",
   "execution_count": null,
   "metadata": {},
   "outputs": [],
   "source": [
    "class HillslopeEvolutionSimulator(object):\n",
    "\n",
    "    def __init__(self,\n",
    "                 creep_coefficient=0.01,\n",
    "                 hillslope_length=100.0,\n",
    "                 relative_uplift_rate=1.0e-4,\n",
    "                 initial_height=0.0,\n",
    "                 relief_cutoff=0.0,\n",
    "                 num_nodes=100,\n",
    "                 diffusion_number=0.2,\n",
    "                ):\n",
    "        \"\"\"Initialize the HillslopeEvolutionSimulator.\n",
    "\n",
    "        Parameters\n",
    "        ----------\n",
    "        creep_coefficient: float\n",
    "            Creep coefficient, in m2/y (default 0.01)\n",
    "        hillslope_length: float\n",
    "            Length of profile, m (default 100 m)\n",
    "        relative_uplift_rate: float\n",
    "            Rate of 'uplift' relative to baselevel (default 0.1 mm/y)\n",
    "        initial_height: float\n",
    "            Height of initial topography, m (default 0)\n",
    "        relief_cutoff: float\n",
    "            Report when maximum height drops below this value (in m) (default 0)\n",
    "        num_nodes: int\n",
    "            Number of nodes (default 100)\n",
    "        diffusion_number: float\n",
    "            Dimensionless diffusion number = D dt / dz^2 (default 0.2)\n",
    "        \"\"\"\n",
    "        self.hillslope_length = hillslope_length\n",
    "        self.relative_uplift_rate = relative_uplift_rate\n",
    "        self.alpha = diffusion_number  # must be <= 1/2 for numerical stability\n",
    "        self.dx = hillslope_length / (num_nodes - 1)\n",
    "        self.timestep_duration = self.alpha * self.dx * self.dx / creep_coefficient\n",
    "        \n",
    "        self.current_time = 0.0\n",
    "        self.relief_cutoff = relief_cutoff\n",
    "\n",
    "        self.x = np.linspace(0, hillslope_length, num_nodes)\n",
    "        self.elev = np.zeros(num_nodes)\n",
    "        self.elev[1:-1] = initial_height\n",
    "\n",
    "        self.steady_height = (0.125 * self.hillslope_length**2 * self.relative_uplift_rate\n",
    "                              / creep_coefficient)\n",
    "        self.height_scale = max(self.steady_height, initial_height)\n",
    "\n",
    "    def run_one_step(self):\n",
    "        \"\"\"Advance for one time step\"\"\"\n",
    "        self.elev[1:-1] += (self.alpha * (self.elev[2:] - 2 * self.elev[1:-1] + self.elev[:-2])\n",
    "                            + self.relative_uplift_rate * self.timestep_duration)\n",
    "        self.current_time += self.timestep_duration\n",
    "        if np.amax(self.elev) < self.relief_cutoff:\n",
    "            print('Reached maximum height of ' + str(np.amax(self.elev)) + ' at t = '\n",
    "                  + str(self.current_time) + ' years.')\n",
    "            self.relief_cutoff = np.amin(self.elev) - 1.0  # so we don't hit this again\n",
    "\n",
    "    def run_n_steps(self, n):\n",
    "        for i in range(n):\n",
    "            self.run_one_step()"
   ]
  },
  {
   "cell_type": "markdown",
   "metadata": {},
   "source": [
    "The function below initializes and runs the model, and generates and displays and animation of the result. Here, we are using default parameters:"
   ]
  },
  {
   "cell_type": "code",
   "execution_count": null,
   "metadata": {},
   "outputs": [],
   "source": [
    "def run_model(run_duration=5.0e5,\n",
    "              creep_coefficient=0.01,\n",
    "              hillslope_length=100.0,\n",
    "              relative_uplift_rate=1.0e-4,\n",
    "              initial_height=0.0,\n",
    "              relief_cutoff=0.0,\n",
    "              num_nodes=100,\n",
    "              save_every=500,\n",
    "              diffusion_number=0.2,\n",
    "             ):\n",
    "    \"\"\"Initialize, run, and display output from model.\n",
    "\n",
    "    Parameters\n",
    "    ----------\n",
    "    run_duration: float\n",
    "        Number of years to run (default 500,000)\n",
    "    creep_coefficient: float\n",
    "        Creep coefficient, in m2/y (default 0.01)\n",
    "    hillslope_length: float\n",
    "        Length of profile, m (default 100 m)\n",
    "    relative_uplift_rate: float\n",
    "        Rate of 'uplift' relative to baselevel (default 0.1 mm/y)\n",
    "    initial_height: float\n",
    "        Height of initial topography, m (default 0)\n",
    "    relief_cutoff: float\n",
    "        Report when maximum height drops below this value (in m) (default 0)\n",
    "    num_nodes: int\n",
    "        Number of nodes (default 100)\n",
    "    save_every: int\n",
    "        Interval to save an animation frame, in iterations (default 500)\n",
    "    diffusion_number: float\n",
    "        Dimensionless diffusion number = D dt / dz^2 (default 0.2)\n",
    "    \"\"\"\n",
    "\n",
    "    # Instantiate and initialize a simulator\n",
    "    model = HillslopeEvolutionSimulator(creep_coefficient=creep_coefficient,\n",
    "                                        hillslope_length=hillslope_length,\n",
    "                                        relative_uplift_rate=relative_uplift_rate,\n",
    "                                        initial_height=initial_height,\n",
    "                                        relief_cutoff=relief_cutoff,\n",
    "                                        num_nodes=num_nodes,\n",
    "                                        diffusion_number=diffusion_number,\n",
    "                                       )\n",
    "\n",
    "    # Calculate number of animation iterations\n",
    "    nsteps = int(run_duration / (model.timestep_duration * save_every))\n",
    "\n",
    "    # Set up a blank figure with placeholder lists for data\n",
    "    fig, ax = plt.subplots()\n",
    "    xdata = []\n",
    "    ydata = []\n",
    "    obj = ax.plot([], [], color = 'k')\n",
    "\n",
    "    # Then, set up an initialization function\n",
    "    def init():\n",
    "        ax.set_ylim(0, 2 * model.height_scale)\n",
    "        ax.set_xlim(0, model.hillslope_length)\n",
    "        ax.set_ylabel('Height (m)')\n",
    "        ax.set_xlabel('Distance (m)')\n",
    "        return(obj)\n",
    "\n",
    "    # Next, define the update function\n",
    "    def update(i):\n",
    "        ax.cla()\n",
    "        model.run_n_steps(save_every)\n",
    "        xdata = model.x\n",
    "        ydata = model.elev\n",
    "        ax.set_ylim(0, 2 * model.height_scale)\n",
    "        ax.set_xlim(0, model.hillslope_length)\n",
    "        ax.set_ylabel('Height (m)')\n",
    "        ax.set_xlabel('Distance (m)')\n",
    "        ax.set_title('Time = ' + str(round(model.current_time)) + ' years')\n",
    "        obj = ax.plot(xdata, ydata, color = 'k')\n",
    "        return(obj)\n",
    "\n",
    "    # Run the animation!\n",
    "    anim = FuncAnimation(fig, update, nsteps, init_func=init, blit = True)\n",
    "\n",
    "    # Convert the animation to HTML\n",
    "    vid = HTML(anim.to_jshtml())\n",
    "\n",
    "    return vid"
   ]
  },
  {
   "cell_type": "markdown",
   "metadata": {},
   "source": [
    "## An example model run with default parameters"
   ]
  },
  {
   "cell_type": "code",
   "execution_count": null,
   "metadata": {},
   "outputs": [],
   "source": [
    "my_movie = run_model()\n",
    "my_movie"
   ]
  },
  {
   "cell_type": "markdown",
   "metadata": {},
   "source": [
    "## An example model run with declining relief"
   ]
  },
  {
   "cell_type": "code",
   "execution_count": null,
   "metadata": {},
   "outputs": [],
   "source": [
    "my_movie = run_model(initial_height=20.0, relative_uplift_rate=0.0, relief_cutoff=1.0)\n",
    "my_movie"
   ]
  },
  {
   "cell_type": "markdown",
   "metadata": {},
   "source": [
    "## Your turn\n",
    "\n",
    "Use the cells below to experiment with running the model with different parameters and/or boundary conditions, as indicated in the lab exercise. To run the model and produce a movie, use `my_movie = run_model(`*keyword parameters*`)`. The main parameters that you might want to explore include:\n",
    "\n",
    "   - run_duration: Number of years to run (default 500,000)\n",
    "   - creep_coefficient: Creep coefficient, in m$^2$/y (default 0.01)\n",
    "   - hillslope_length: Length of profile, m (default 100 m)\n",
    "   - relative_uplift_rate: Rate of 'uplift' relative to baselevel (default 0.1 mm/y)\n",
    "   - initial_height: Height of initial topography, m (default 0)\n",
    "   - relief_cutoff: Report when maximum height drops below this value (in m) (default 0)\n",
    "\n",
    "For example, to run a model with a creep coefficient of 0.001 m$^2$/y and a relative uplift rate of 0.0005, you would create and run a new cell with the code:\n",
    "\n",
    "`my_movie = run_model(creep_coefficient=0.001, relative_uplift_rate=0.0005)`\n",
    "\n",
    "`my_movie`"
   ]
  },
  {
   "cell_type": "code",
   "execution_count": null,
   "metadata": {},
   "outputs": [],
   "source": []
  }
 ],
 "metadata": {
  "kernelspec": {
   "display_name": "Python 3",
   "language": "python",
   "name": "python3"
  },
  "language_info": {
   "codemirror_mode": {
    "name": "ipython",
    "version": 3
   },
   "file_extension": ".py",
   "mimetype": "text/x-python",
   "name": "python",
   "nbconvert_exporter": "python",
   "pygments_lexer": "ipython3",
   "version": "3.8.8"
  }
 },
 "nbformat": 4,
 "nbformat_minor": 2
}
