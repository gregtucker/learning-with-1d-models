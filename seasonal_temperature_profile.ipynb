{
 "cells": [
  {
   "cell_type": "markdown",
   "metadata": {},
   "source": [
    "# Simulation of temperature profile evolution in permafrost\n",
    "\n",
    "This notebook creates and runs a one-dimensional simulation model of temperature evolution under sinusoidal forcing.\n",
    "\n",
    "(Greg Tucker, University of Colorado Boulder; last update November 2021)"
   ]
  },
  {
   "cell_type": "code",
   "execution_count": null,
   "metadata": {},
   "outputs": [],
   "source": [
    "import numpy as np\n",
    "import matplotlib\n",
    "import matplotlib.pyplot as plt\n",
    "from matplotlib import rc\n",
    "from matplotlib.animation import FuncAnimation\n",
    "from IPython.display import HTML"
   ]
  },
  {
   "cell_type": "markdown",
   "metadata": {},
   "source": [
    "The block below defines the code for the model:"
   ]
  },
  {
   "cell_type": "code",
   "execution_count": null,
   "metadata": {},
   "outputs": [],
   "source": [
    "class HeatConductionSimulator(object):\n",
    "    \n",
    "    _ONE_YEAR = 365.25 * 24 * 60.0 * 60.0\n",
    "\n",
    "    def __init__(self,\n",
    "                 thermal_diffusivity=1.0e-6,\n",
    "                 profile_depth=100,\n",
    "                 geotherm=0.025,\n",
    "                 surface_temp=-5.0,\n",
    "                 amplitude=5.0,\n",
    "                 period=_ONE_YEAR,\n",
    "                 num_nodes=100,\n",
    "                 diffusion_number=0.2,\n",
    "                ):\n",
    "        \"\"\"Initialize the HeatConductionSimulator.\n",
    "\n",
    "        Parameters\n",
    "        ----------\n",
    "        \"\"\"\n",
    "        self.profile_depth = profile_depth\n",
    "        self.surface_temp = surface_temp\n",
    "        self.amplitude = amplitude\n",
    "        self.period = period\n",
    "        self.alpha = diffusion_number  # must be <= 1/2 for numerical stability\n",
    "        self.dz = profile_depth / (num_nodes - 1)\n",
    "        self.timestep_duration = self.alpha * self.dz * self.dz / thermal_diffusivity\n",
    "\n",
    "        self.depth = np.linspace(0, profile_depth, num_nodes)\n",
    "        self.temp = surface_temp + geotherm * self.depth\n",
    "        self.current_time = 0.0\n",
    "        \n",
    "    def run_one_step(self):\n",
    "        \"\"\"Advance for one time step\"\"\"\n",
    "        self.temp[0] = (self.surface_temp + \n",
    "                        self.amplitude * np.sin(2.0 * np.pi * self.current_time / self.period))\n",
    "        self.temp[1:-1] += self.alpha * (self.temp[2:] - 2 * self.temp[1:-1] + self.temp[:-2])\n",
    "        self.current_time += self.timestep_duration\n",
    "\n",
    "    def run_n_steps(self, n):\n",
    "        for i in range(n):\n",
    "            self.run_one_step()"
   ]
  },
  {
   "cell_type": "markdown",
   "metadata": {},
   "source": [
    "In the next block, we creat an *instance* of the model. This initializes it but does not actually run it."
   ]
  },
  {
   "cell_type": "code",
   "execution_count": null,
   "metadata": {},
   "outputs": [],
   "source": [
    "hcs = HeatConductionSimulator()"
   ]
  },
  {
   "cell_type": "markdown",
   "metadata": {},
   "source": [
    "Let's check what the time-step size is:"
   ]
  },
  {
   "cell_type": "code",
   "execution_count": null,
   "metadata": {},
   "outputs": [],
   "source": [
    "print('Time step size is ' + str(hcs.timestep_duration) + ' seconds.')"
   ]
  },
  {
   "cell_type": "markdown",
   "metadata": {},
   "source": [
    "Set some parameters that will control our run and the capturing of output:"
   ]
  },
  {
   "cell_type": "code",
   "execution_count": null,
   "metadata": {},
   "outputs": [],
   "source": [
    "save_every = 10\n",
    "nsteps = int(20 * 365.25 * 24 * 3600.0 / (hcs.timestep_duration * save_every))"
   ]
  },
  {
   "cell_type": "markdown",
   "metadata": {},
   "source": [
    "The next few cells set up the animation"
   ]
  },
  {
   "cell_type": "code",
   "execution_count": null,
   "metadata": {},
   "outputs": [],
   "source": [
    "# First, set up a blank figure\n",
    "fig, ax = plt.subplots()\n",
    "\n",
    "# And placeholder lists for data\n",
    "xdata = []\n",
    "ydata = []\n",
    "obj = ax.plot([], [], color = 'k')"
   ]
  },
  {
   "cell_type": "code",
   "execution_count": null,
   "metadata": {},
   "outputs": [],
   "source": [
    "# Then, set up an initialization function\n",
    "def init():\n",
    "    ax.set_ylim(0, hcs.profile_depth)\n",
    "    ax.set_xlim(hcs.surface_temp - hcs.amplitude, hcs.surface_temp + hcs.amplitude)\n",
    "    ax.set_ylabel('Depth (m)')\n",
    "    ax.set_xlabel('Temperature (degrees C)')\n",
    "    ax.xaxis.tick_top()\n",
    "    ax.xaxis.set_label_position('top') \n",
    "    return(obj)"
   ]
  },
  {
   "cell_type": "code",
   "execution_count": null,
   "metadata": {},
   "outputs": [],
   "source": [
    "# Next, define the update function\n",
    "def update(i):\n",
    "    ax.cla()\n",
    "    hcs.run_n_steps(save_every)\n",
    "    xdata = hcs.temp\n",
    "    ydata = hcs.depth\n",
    "    ax.set_ylim(0, hcs.profile_depth)\n",
    "    ax.set_xlim(hcs.surface_temp - hcs.amplitude, hcs.surface_temp + hcs.amplitude)\n",
    "    ax.set_ylabel('Depth (m)')\n",
    "    ax.set_xlabel('Temperature (degrees C)')\n",
    "    ax.invert_yaxis()\n",
    "    ax.xaxis.tick_top()\n",
    "    ax.xaxis.set_label_position('top') \n",
    "    obj = ax.plot(xdata, ydata, color = 'k')\n",
    "    return(obj)"
   ]
  },
  {
   "cell_type": "markdown",
   "metadata": {},
   "source": [
    "Now, use FuncAnimation to run the model."
   ]
  },
  {
   "cell_type": "code",
   "execution_count": null,
   "metadata": {},
   "outputs": [],
   "source": [
    "# Run the animation!\n",
    "anim = FuncAnimation(fig, update, nsteps, init_func = init, blit = True)\n",
    "plt.show()"
   ]
  },
  {
   "cell_type": "code",
   "execution_count": null,
   "metadata": {},
   "outputs": [],
   "source": [
    "# Convert the animation to HTML\n",
    "vid = HTML(anim.to_jshtml())"
   ]
  },
  {
   "cell_type": "code",
   "execution_count": null,
   "metadata": {},
   "outputs": [],
   "source": [
    "vid"
   ]
  }
 ],
 "metadata": {
  "kernelspec": {
   "display_name": "Python 3",
   "language": "python",
   "name": "python3"
  },
  "language_info": {
   "codemirror_mode": {
    "name": "ipython",
    "version": 3
   },
   "file_extension": ".py",
   "mimetype": "text/x-python",
   "name": "python",
   "nbconvert_exporter": "python",
   "pygments_lexer": "ipython3",
   "version": "3.8.8"
  }
 },
 "nbformat": 4,
 "nbformat_minor": 2
}
