{
 "cells": [
  {
   "cell_type": "markdown",
   "metadata": {},
   "source": [
    "# Simulation of viscous flow between parallel plates\n",
    "\n",
    "This notebook creates and runs a little simulation model of Couette flow, or flow between parallel plates in which one plate is moving relative to the other.\n",
    "\n",
    "(Greg Tucker, University of Colorado Boulder; last update November 2021)"
   ]
  },
  {
   "cell_type": "code",
   "execution_count": null,
   "metadata": {},
   "outputs": [],
   "source": [
    "import numpy as np\n",
    "import matplotlib\n",
    "import matplotlib.pyplot as plt\n",
    "from matplotlib import rc\n",
    "from matplotlib.animation import FuncAnimation\n",
    "from IPython.display import HTML"
   ]
  },
  {
   "cell_type": "markdown",
   "metadata": {},
   "source": [
    "The block below defines the code for the model:"
   ]
  },
  {
   "cell_type": "code",
   "execution_count": null,
   "metadata": {},
   "outputs": [],
   "source": [
    "class MomentumDiffuser(object):\n",
    "    \n",
    "    def __init__(self,\n",
    "                 viscosity=0.001,\n",
    "                 density=1000.0,\n",
    "                 top_plate_speed=0.1,\n",
    "                 dist_btwn_plates=0.01,\n",
    "                 num_layers=100,\n",
    "                ):\n",
    "        \"\"\"Initialize the MomentumDiffuser.\n",
    "        \n",
    "        Parameters\n",
    "        ----------\n",
    "        viscosity : float\n",
    "            Fluid viscosity, Pa s\n",
    "        density : float\n",
    "            Fluid density, kg / m3\n",
    "        top_plate_speed : float\n",
    "            Speed of top plate, m / s\n",
    "        dist_btwn_plates : float\n",
    "            Distance between plates, m\n",
    "        num_layers : int\n",
    "            Number of fluid layers\n",
    "        \"\"\"\n",
    "        STABILITY_FACTOR = 0.2\n",
    "        kin_visc = viscosity / density\n",
    "        self.dx = dist_btwn_plates / num_layers\n",
    "        self.timestep_duration = STABILITY_FACTOR * self.dx * self.dx / kin_visc\n",
    "        self.speed = np.zeros(num_layers)\n",
    "        self.speed[-1] = top_plate_speed\n",
    "        self.alpha = kin_visc * self.timestep_duration / (self.dx * self.dx)\n",
    "\n",
    "    def run_one_step(self):\n",
    "        \"\"\"Advance for one time step\"\"\"\n",
    "        self.speed[1:-1] += self.alpha * (self.speed[2:] - 2 * self.speed[1:-1] + self.speed[:-2])\n",
    "        \n",
    "    def run_n_steps(self, n):\n",
    "        for i in range(n):\n",
    "            self.run_one_step()"
   ]
  },
  {
   "cell_type": "markdown",
   "metadata": {},
   "source": [
    "In the next block, we creat an *instance* of the model. This initializes it but does not actually run it."
   ]
  },
  {
   "cell_type": "code",
   "execution_count": null,
   "metadata": {},
   "outputs": [],
   "source": [
    "top_plate_speed=0.1\n",
    "dist_btwn_plates=0.01\n",
    "md = MomentumDiffuser(top_plate_speed=top_plate_speed,\n",
    "                      dist_btwn_plates=dist_btwn_plates)"
   ]
  },
  {
   "cell_type": "markdown",
   "metadata": {},
   "source": [
    "Let's check what the time-step size is:"
   ]
  },
  {
   "cell_type": "code",
   "execution_count": null,
   "metadata": {},
   "outputs": [],
   "source": [
    "print('Time step size is ' + str(md.timestep_duration) + ' seconds.')"
   ]
  },
  {
   "cell_type": "markdown",
   "metadata": {},
   "source": [
    "Set some parameters that will control our run and the capturing of output:"
   ]
  },
  {
   "cell_type": "code",
   "execution_count": null,
   "metadata": {},
   "outputs": [],
   "source": [
    "nsteps = 1000\n",
    "save_every = 200"
   ]
  },
  {
   "cell_type": "markdown",
   "metadata": {},
   "source": [
    "The next few cells set up the animation"
   ]
  },
  {
   "cell_type": "code",
   "execution_count": null,
   "metadata": {},
   "outputs": [],
   "source": [
    "# First, set up a blank figure\n",
    "fig, ax = plt.subplots()\n",
    "\n",
    "# And placeholder lists for data\n",
    "xdata = []\n",
    "ydata = []\n",
    "obj = ax.plot([], [], color = 'k')"
   ]
  },
  {
   "cell_type": "code",
   "execution_count": null,
   "metadata": {},
   "outputs": [],
   "source": [
    "# Then, set up an initialization function\n",
    "def init():\n",
    "    ax.set_xlim(0, top_plate_speed)\n",
    "    ax.set_ylim(0, dist_btwn_plates)\n",
    "    ax.set_xlabel('Speed (m/s)')\n",
    "    ax.set_ylabel('Distance (m)')\n",
    "    return(obj)"
   ]
  },
  {
   "cell_type": "code",
   "execution_count": null,
   "metadata": {},
   "outputs": [],
   "source": [
    "# Next, define the update function\n",
    "def update(i):\n",
    "    ax.cla()\n",
    "    md.run_n_steps(save_every)\n",
    "    xdata = md.speed\n",
    "    ydata = np.linspace(0, dist_btwn_plates, len(md.speed))\n",
    "    ax.set_xlabel('Speed (m/s)')\n",
    "    ax.set_ylabel('Distance (m)')\n",
    "    obj = ax.plot(xdata, ydata, color = 'k')\n",
    "    return(obj)"
   ]
  },
  {
   "cell_type": "markdown",
   "metadata": {},
   "source": [
    "Now, use FuncAnimation to run the model."
   ]
  },
  {
   "cell_type": "code",
   "execution_count": null,
   "metadata": {},
   "outputs": [],
   "source": [
    "# Run the animation!\n",
    "anim = FuncAnimation(fig, update, 100, init_func = init, blit = True)\n",
    "plt.show()"
   ]
  },
  {
   "cell_type": "code",
   "execution_count": null,
   "metadata": {},
   "outputs": [],
   "source": [
    "# Convert the animation to HTML\n",
    "vid = HTML(anim.to_jshtml())"
   ]
  },
  {
   "cell_type": "code",
   "execution_count": null,
   "metadata": {},
   "outputs": [],
   "source": [
    "vid"
   ]
  }
 ],
 "metadata": {
  "kernelspec": {
   "display_name": "Python 3",
   "language": "python",
   "name": "python3"
  },
  "language_info": {
   "codemirror_mode": {
    "name": "ipython",
    "version": 3
   },
   "file_extension": ".py",
   "mimetype": "text/x-python",
   "name": "python",
   "nbconvert_exporter": "python",
   "pygments_lexer": "ipython3",
   "version": "3.8.8"
  }
 },
 "nbformat": 4,
 "nbformat_minor": 2
}
