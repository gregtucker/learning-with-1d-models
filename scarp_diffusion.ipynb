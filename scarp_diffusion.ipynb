{
 "cells": [
  {
   "cell_type": "markdown",
   "metadata": {},
   "source": [
    "# Simulation of morphologic evolution of a scarp profile\n",
    "\n",
    "This notebook creates and runs a little simulation model of morphologic evolution of an initial scarp.\n",
    "\n",
    "(Greg Tucker, University of Colorado Boulder; last update November 2021)"
   ]
  },
  {
   "cell_type": "code",
   "execution_count": null,
   "metadata": {},
   "outputs": [],
   "source": [
    "import numpy as np\n",
    "import matplotlib\n",
    "import matplotlib.pyplot as plt\n",
    "from matplotlib import rc\n",
    "from matplotlib.animation import FuncAnimation\n",
    "from IPython.display import HTML"
   ]
  },
  {
   "cell_type": "markdown",
   "metadata": {},
   "source": [
    "The block below defines the code for the model:"
   ]
  },
  {
   "cell_type": "code",
   "execution_count": null,
   "metadata": {},
   "outputs": [],
   "source": [
    "class ScarpEvolver(object):\n",
    "    \n",
    "    def __init__(self,\n",
    "                 creep_coefficient=0.001,\n",
    "                 scarp_length=100,\n",
    "                 num_nodes=100,\n",
    "                 scarp_height=10.0,\n",
    "                 initial_angle=35.0,\n",
    "                 diffusion_number=0.2,\n",
    "                ):\n",
    "        \"\"\"Initialize the ScarpEvolver.\n",
    "\n",
    "        Parameters\n",
    "        ----------\n",
    "        creep_coefficient: float\n",
    "            soil creep coefficient, m2/yr\n",
    "        scarp_length: float\n",
    "            length of domain, m\n",
    "        num_nodes: int\n",
    "            number of nodes\n",
    "        scarp_height: float\n",
    "            initial height of scarp, m\n",
    "        initial_angle: float\n",
    "            initial angle of scarp, degrees\n",
    "        diffusion_number: float\n",
    "            diffusion number\n",
    "        \"\"\"\n",
    "        self.scarp_length = scarp_length\n",
    "        self.alpha = diffusion_number  # must be <= 1/2 for numerical stability\n",
    "        self.dx = scarp_length / (num_nodes - 1)\n",
    "        self.timestep_duration = self.alpha * self.dx * self.dx / creep_coefficient\n",
    "        self.elev = np.zeros(num_nodes)\n",
    "        \n",
    "        m = np.tan(np.radians(initial_angle))\n",
    "        b = 0.5 * (scarp_height - m * scarp_length)\n",
    "        self.x = np.linspace(0, scarp_length, num_nodes)\n",
    "        self.elev[:] = m * self.x + b\n",
    "        self.elev[self.elev < 0.0] = 0.0\n",
    "        self.elev[self.elev > scarp_height] = scarp_height\n",
    "\n",
    "    def run_one_step(self):\n",
    "        \"\"\"Advance for one time step\"\"\"\n",
    "        self.elev[1:-1] += self.alpha * (self.elev[2:] - 2 * self.elev[1:-1] + self.elev[:-2])\n",
    "        \n",
    "    def run_n_steps(self, n):\n",
    "        for i in range(n):\n",
    "            self.run_one_step()"
   ]
  },
  {
   "cell_type": "markdown",
   "metadata": {},
   "source": [
    "In the next block, we creat an *instance* of the model. This initializes it but does not actually run it."
   ]
  },
  {
   "cell_type": "code",
   "execution_count": null,
   "metadata": {},
   "outputs": [],
   "source": [
    "scarp_length = 100.0\n",
    "scarp_height = 10.0\n",
    "md = ScarpEvolver(scarp_length=scarp_length, scarp_height=scarp_height)"
   ]
  },
  {
   "cell_type": "markdown",
   "metadata": {},
   "source": [
    "Let's check what the time-step size is:"
   ]
  },
  {
   "cell_type": "code",
   "execution_count": null,
   "metadata": {},
   "outputs": [],
   "source": [
    "print('Time step size is ' + str(md.timestep_duration) + ' years.')"
   ]
  },
  {
   "cell_type": "markdown",
   "metadata": {},
   "source": [
    "Set some parameters that will control our run and the capturing of output:"
   ]
  },
  {
   "cell_type": "code",
   "execution_count": null,
   "metadata": {},
   "outputs": [],
   "source": [
    "nsteps = 100\n",
    "save_every = 2"
   ]
  },
  {
   "cell_type": "markdown",
   "metadata": {},
   "source": [
    "The next few cells set up the animation"
   ]
  },
  {
   "cell_type": "code",
   "execution_count": null,
   "metadata": {},
   "outputs": [],
   "source": [
    "# First, set up a blank figure\n",
    "fig, ax = plt.subplots()\n",
    "\n",
    "# And placeholder lists for data\n",
    "xdata = []\n",
    "ydata = []\n",
    "obj = ax.plot([], [], color = 'k')"
   ]
  },
  {
   "cell_type": "code",
   "execution_count": null,
   "metadata": {},
   "outputs": [],
   "source": [
    "# Then, set up an initialization function\n",
    "def init():\n",
    "    ax.set_xlim(0, scarp_length)\n",
    "    ax.set_ylim(0, scarp_height)\n",
    "    ax.set_xlabel('Distance (m)')\n",
    "    ax.set_ylabel('Elevation (m)')\n",
    "    return(obj)"
   ]
  },
  {
   "cell_type": "code",
   "execution_count": null,
   "metadata": {},
   "outputs": [],
   "source": [
    "# Next, define the update function\n",
    "def update(i):\n",
    "    ax.cla()\n",
    "    md.run_n_steps(save_every)\n",
    "    xdata = md.x\n",
    "    ydata = md.elev\n",
    "    ax.set_xlabel('Distance (m)')\n",
    "    ax.set_ylabel('Elevation (m)')\n",
    "    obj = ax.plot(xdata, ydata, color = 'k')\n",
    "    return(obj)"
   ]
  },
  {
   "cell_type": "markdown",
   "metadata": {},
   "source": [
    "Now, use FuncAnimation to run the model."
   ]
  },
  {
   "cell_type": "code",
   "execution_count": null,
   "metadata": {},
   "outputs": [],
   "source": [
    "# Run the animation!\n",
    "anim = FuncAnimation(fig, update, 100, init_func = init, blit = True)\n",
    "plt.show()"
   ]
  },
  {
   "cell_type": "code",
   "execution_count": null,
   "metadata": {},
   "outputs": [],
   "source": [
    "# Convert the animation to HTML\n",
    "vid = HTML(anim.to_jshtml())"
   ]
  },
  {
   "cell_type": "code",
   "execution_count": null,
   "metadata": {},
   "outputs": [],
   "source": [
    "vid"
   ]
  }
 ],
 "metadata": {
  "kernelspec": {
   "display_name": "Python 3",
   "language": "python",
   "name": "python3"
  },
  "language_info": {
   "codemirror_mode": {
    "name": "ipython",
    "version": 3
   },
   "file_extension": ".py",
   "mimetype": "text/x-python",
   "name": "python",
   "nbconvert_exporter": "python",
   "pygments_lexer": "ipython3",
   "version": "3.8.8"
  }
 },
 "nbformat": 4,
 "nbformat_minor": 2
}
